{
 "cells": [
  {
   "attachments": {},
   "cell_type": "markdown",
   "metadata": {},
   "source": [
    "# Predicting Employee Attrition Using Machine Learning"
   ]
  },
  {
   "attachments": {},
   "cell_type": "markdown",
   "metadata": {},
   "source": [
    "##### Author : Lana Fuadi"
   ]
  },
  {
   "attachments": {},
   "cell_type": "markdown",
   "metadata": {},
   "source": [
    "# 0. Preparation"
   ]
  },
  {
   "attachments": {},
   "cell_type": "markdown",
   "metadata": {},
   "source": [
    "## 0.1. Import Required Library"
   ]
  },
  {
   "cell_type": "code",
   "execution_count": 7,
   "metadata": {},
   "outputs": [],
   "source": [
    "import pandas as pd\n",
    "import numpy as np\n",
    "import matplotlib.pyplot as plt\n",
    "import seaborn as sns"
   ]
  },
  {
   "attachments": {},
   "cell_type": "markdown",
   "metadata": {},
   "source": [
    "## 0.2. Load Dataset"
   ]
  },
  {
   "cell_type": "code",
   "execution_count": 8,
   "metadata": {},
   "outputs": [],
   "source": [
    "# Set the maximum number of rows to display\n",
    "pd.set_option('display.max_rows', None)\n",
    "\n",
    "# Set the maximum number of columns to display\n",
    "pd.set_option('display.max_columns', None)"
   ]
  },
  {
   "cell_type": "code",
   "execution_count": 9,
   "metadata": {},
   "outputs": [
    {
     "data": {
      "text/html": [
       "<div>\n",
       "<style scoped>\n",
       "    .dataframe tbody tr th:only-of-type {\n",
       "        vertical-align: middle;\n",
       "    }\n",
       "\n",
       "    .dataframe tbody tr th {\n",
       "        vertical-align: top;\n",
       "    }\n",
       "\n",
       "    .dataframe thead th {\n",
       "        text-align: right;\n",
       "    }\n",
       "</style>\n",
       "<table border=\"1\" class=\"dataframe\">\n",
       "  <thead>\n",
       "    <tr style=\"text-align: right;\">\n",
       "      <th></th>\n",
       "      <th>Username</th>\n",
       "      <th>EnterpriseID</th>\n",
       "      <th>StatusPernikahan</th>\n",
       "      <th>JenisKelamin</th>\n",
       "      <th>StatusKepegawaian</th>\n",
       "      <th>Pekerjaan</th>\n",
       "      <th>JenjangKarir</th>\n",
       "      <th>PerformancePegawai</th>\n",
       "      <th>AsalDaerah</th>\n",
       "      <th>HiringPlatform</th>\n",
       "      <th>SkorSurveyEngagement</th>\n",
       "      <th>SkorKepuasanPegawai</th>\n",
       "      <th>JumlahKeikutsertaanProjek</th>\n",
       "      <th>JumlahKeterlambatanSebulanTerakhir</th>\n",
       "      <th>JumlahKetidakhadiran</th>\n",
       "      <th>NomorHP</th>\n",
       "      <th>Email</th>\n",
       "      <th>TingkatPendidikan</th>\n",
       "      <th>PernahBekerja</th>\n",
       "      <th>IkutProgramLOP</th>\n",
       "      <th>AlasanResign</th>\n",
       "      <th>TanggalLahir</th>\n",
       "      <th>TanggalHiring</th>\n",
       "      <th>TanggalPenilaianKaryawan</th>\n",
       "      <th>TanggalResign</th>\n",
       "    </tr>\n",
       "  </thead>\n",
       "  <tbody>\n",
       "    <tr>\n",
       "      <th>104</th>\n",
       "      <td>jumpyTomatoe4</td>\n",
       "      <td>105969</td>\n",
       "      <td>Belum_menikah</td>\n",
       "      <td>Wanita</td>\n",
       "      <td>Outsource</td>\n",
       "      <td>Software Engineer (Front End)</td>\n",
       "      <td>Senior_level</td>\n",
       "      <td>Sangat_bagus</td>\n",
       "      <td>Jakarta Barat</td>\n",
       "      <td>Indeed</td>\n",
       "      <td>4</td>\n",
       "      <td>3.0</td>\n",
       "      <td>0.0</td>\n",
       "      <td>0.0</td>\n",
       "      <td>14.0</td>\n",
       "      <td>+6285778884xxx</td>\n",
       "      <td>jumpyTomatoe4555@gmail.com</td>\n",
       "      <td>Magister</td>\n",
       "      <td>1</td>\n",
       "      <td>0.0</td>\n",
       "      <td>toxic_culture</td>\n",
       "      <td>1991-01-28</td>\n",
       "      <td>2013-8-19</td>\n",
       "      <td>2020-1-14</td>\n",
       "      <td>2017-09-05</td>\n",
       "    </tr>\n",
       "    <tr>\n",
       "      <th>182</th>\n",
       "      <td>somberRelish9</td>\n",
       "      <td>106017</td>\n",
       "      <td>Belum_menikah</td>\n",
       "      <td>Pria</td>\n",
       "      <td>FullTime</td>\n",
       "      <td>Software Engineer (Back End)</td>\n",
       "      <td>Freshgraduate_program</td>\n",
       "      <td>Kurang</td>\n",
       "      <td>Jakarta Pusat</td>\n",
       "      <td>Indeed</td>\n",
       "      <td>2</td>\n",
       "      <td>4.0</td>\n",
       "      <td>0.0</td>\n",
       "      <td>0.0</td>\n",
       "      <td>10.0</td>\n",
       "      <td>+6289511334xxx</td>\n",
       "      <td>somberRelish9280@gmail.com</td>\n",
       "      <td>Sarjana</td>\n",
       "      <td>1</td>\n",
       "      <td>NaN</td>\n",
       "      <td>masih_bekerja</td>\n",
       "      <td>1976-01-19</td>\n",
       "      <td>2013-9-30</td>\n",
       "      <td>2020-1-23</td>\n",
       "      <td>-</td>\n",
       "    </tr>\n",
       "    <tr>\n",
       "      <th>264</th>\n",
       "      <td>mercifulCheetah9</td>\n",
       "      <td>106590</td>\n",
       "      <td>Belum_menikah</td>\n",
       "      <td>Pria</td>\n",
       "      <td>FullTime</td>\n",
       "      <td>Software Engineer (Back End)</td>\n",
       "      <td>Freshgraduate_program</td>\n",
       "      <td>Sangat_bagus</td>\n",
       "      <td>Jakarta Barat</td>\n",
       "      <td>LinkedIn</td>\n",
       "      <td>3</td>\n",
       "      <td>4.0</td>\n",
       "      <td>5.0</td>\n",
       "      <td>0.0</td>\n",
       "      <td>13.0</td>\n",
       "      <td>+6281883291xxx</td>\n",
       "      <td>mercifulCheetah9150@proton.com</td>\n",
       "      <td>Sarjana</td>\n",
       "      <td>1</td>\n",
       "      <td>NaN</td>\n",
       "      <td>NaN</td>\n",
       "      <td>1983-02-09</td>\n",
       "      <td>2016-6-30</td>\n",
       "      <td>2020-1-14</td>\n",
       "      <td>-</td>\n",
       "    </tr>\n",
       "  </tbody>\n",
       "</table>\n",
       "</div>"
      ],
      "text/plain": [
       "             Username  EnterpriseID StatusPernikahan JenisKelamin   \n",
       "104     jumpyTomatoe4        105969    Belum_menikah       Wanita  \\\n",
       "182     somberRelish9        106017    Belum_menikah         Pria   \n",
       "264  mercifulCheetah9        106590    Belum_menikah         Pria   \n",
       "\n",
       "    StatusKepegawaian                      Pekerjaan           JenjangKarir   \n",
       "104         Outsource  Software Engineer (Front End)           Senior_level  \\\n",
       "182          FullTime   Software Engineer (Back End)  Freshgraduate_program   \n",
       "264          FullTime   Software Engineer (Back End)  Freshgraduate_program   \n",
       "\n",
       "    PerformancePegawai     AsalDaerah HiringPlatform  SkorSurveyEngagement   \n",
       "104       Sangat_bagus  Jakarta Barat         Indeed                     4  \\\n",
       "182             Kurang  Jakarta Pusat         Indeed                     2   \n",
       "264       Sangat_bagus  Jakarta Barat       LinkedIn                     3   \n",
       "\n",
       "     SkorKepuasanPegawai  JumlahKeikutsertaanProjek   \n",
       "104                  3.0                        0.0  \\\n",
       "182                  4.0                        0.0   \n",
       "264                  4.0                        5.0   \n",
       "\n",
       "     JumlahKeterlambatanSebulanTerakhir  JumlahKetidakhadiran         NomorHP   \n",
       "104                                 0.0                  14.0  +6285778884xxx  \\\n",
       "182                                 0.0                  10.0  +6289511334xxx   \n",
       "264                                 0.0                  13.0  +6281883291xxx   \n",
       "\n",
       "                              Email TingkatPendidikan PernahBekerja   \n",
       "104      jumpyTomatoe4555@gmail.com          Magister             1  \\\n",
       "182      somberRelish9280@gmail.com           Sarjana             1   \n",
       "264  mercifulCheetah9150@proton.com           Sarjana             1   \n",
       "\n",
       "     IkutProgramLOP   AlasanResign TanggalLahir TanggalHiring   \n",
       "104             0.0  toxic_culture   1991-01-28     2013-8-19  \\\n",
       "182             NaN  masih_bekerja   1976-01-19     2013-9-30   \n",
       "264             NaN            NaN   1983-02-09     2016-6-30   \n",
       "\n",
       "    TanggalPenilaianKaryawan TanggalResign  \n",
       "104                2020-1-14    2017-09-05  \n",
       "182                2020-1-23             -  \n",
       "264                2020-1-14             -  "
      ]
     },
     "execution_count": 9,
     "metadata": {},
     "output_type": "execute_result"
    }
   ],
   "source": [
    "# Load dataset\n",
    "data = pd.read_excel('employee.xlsx')\n",
    "data.sample(3)"
   ]
  },
  {
   "cell_type": "code",
   "execution_count": 10,
   "metadata": {},
   "outputs": [
    {
     "name": "stdout",
     "output_type": "stream",
     "text": [
      "<class 'pandas.core.frame.DataFrame'>\n",
      "RangeIndex: 287 entries, 0 to 286\n",
      "Data columns (total 25 columns):\n",
      " #   Column                              Non-Null Count  Dtype  \n",
      "---  ------                              --------------  -----  \n",
      " 0   Username                            287 non-null    object \n",
      " 1   EnterpriseID                        287 non-null    int64  \n",
      " 2   StatusPernikahan                    287 non-null    object \n",
      " 3   JenisKelamin                        287 non-null    object \n",
      " 4   StatusKepegawaian                   287 non-null    object \n",
      " 5   Pekerjaan                           287 non-null    object \n",
      " 6   JenjangKarir                        287 non-null    object \n",
      " 7   PerformancePegawai                  287 non-null    object \n",
      " 8   AsalDaerah                          287 non-null    object \n",
      " 9   HiringPlatform                      287 non-null    object \n",
      " 10  SkorSurveyEngagement                287 non-null    int64  \n",
      " 11  SkorKepuasanPegawai                 282 non-null    float64\n",
      " 12  JumlahKeikutsertaanProjek           284 non-null    float64\n",
      " 13  JumlahKeterlambatanSebulanTerakhir  286 non-null    float64\n",
      " 14  JumlahKetidakhadiran                281 non-null    float64\n",
      " 15  NomorHP                             287 non-null    object \n",
      " 16  Email                               287 non-null    object \n",
      " 17  TingkatPendidikan                   287 non-null    object \n",
      " 18  PernahBekerja                       287 non-null    object \n",
      " 19  IkutProgramLOP                      29 non-null     float64\n",
      " 20  AlasanResign                        221 non-null    object \n",
      " 21  TanggalLahir                        287 non-null    object \n",
      " 22  TanggalHiring                       287 non-null    object \n",
      " 23  TanggalPenilaianKaryawan            287 non-null    object \n",
      " 24  TanggalResign                       287 non-null    object \n",
      "dtypes: float64(5), int64(2), object(18)\n",
      "memory usage: 56.2+ KB\n"
     ]
    }
   ],
   "source": [
    "data.info()"
   ]
  },
  {
   "attachments": {},
   "cell_type": "markdown",
   "metadata": {},
   "source": [
    "# 1. Exploratory Data Analysis"
   ]
  },
  {
   "attachments": {},
   "cell_type": "markdown",
   "metadata": {},
   "source": [
    "## 1.1. Handle Unimportant Columns"
   ]
  },
  {
   "cell_type": "code",
   "execution_count": 11,
   "metadata": {},
   "outputs": [
    {
     "data": {
      "text/plain": [
       "EnterpriseID                          287\n",
       "Email                                 287\n",
       "NomorHP                               287\n",
       "Username                              285\n",
       "TanggalLahir                          284\n",
       "TanggalPenilaianKaryawan              127\n",
       "TanggalHiring                          97\n",
       "TanggalResign                          53\n",
       "JumlahKetidakhadiran                   22\n",
       "Pekerjaan                              14\n",
       "AlasanResign                           11\n",
       "HiringPlatform                          9\n",
       "JumlahKeikutsertaanProjek               9\n",
       "JumlahKeterlambatanSebulanTerakhir      7\n",
       "PerformancePegawai                      5\n",
       "SkorKepuasanPegawai                     5\n",
       "SkorSurveyEngagement                    5\n",
       "StatusPernikahan                        5\n",
       "AsalDaerah                              5\n",
       "JenjangKarir                            3\n",
       "TingkatPendidikan                       3\n",
       "StatusKepegawaian                       3\n",
       "PernahBekerja                           2\n",
       "IkutProgramLOP                          2\n",
       "JenisKelamin                            2\n",
       "dtype: int64"
      ]
     },
     "execution_count": 11,
     "metadata": {},
     "output_type": "execute_result"
    }
   ],
   "source": [
    "# Count number of unique class\n",
    "uniques = data.nunique().sort_values(ascending = False)\n",
    "uniques"
   ]
  },
  {
   "cell_type": "code",
   "execution_count": 12,
   "metadata": {},
   "outputs": [],
   "source": [
    "# Drop unimportant columns; (Username, EnterpriseID, NomorHp, and Email).\n",
    "# Drop PernahBekerja; it is unimportant since it only has one value.\n",
    "# Drop IkutProgramLOP column since it has too many missing values, 258 out of 287\n",
    "\n",
    "data = data.drop(['Username', 'EnterpriseID', 'NomorHP', 'Email', 'PernahBekerja', 'IkutProgramLOP'], axis=1)"
   ]
  },
  {
   "cell_type": "code",
   "execution_count": 13,
   "metadata": {},
   "outputs": [
    {
     "name": "stdout",
     "output_type": "stream",
     "text": [
      "<class 'pandas.core.frame.DataFrame'>\n",
      "RangeIndex: 287 entries, 0 to 286\n",
      "Data columns (total 19 columns):\n",
      " #   Column                              Non-Null Count  Dtype  \n",
      "---  ------                              --------------  -----  \n",
      " 0   StatusPernikahan                    287 non-null    object \n",
      " 1   JenisKelamin                        287 non-null    object \n",
      " 2   StatusKepegawaian                   287 non-null    object \n",
      " 3   Pekerjaan                           287 non-null    object \n",
      " 4   JenjangKarir                        287 non-null    object \n",
      " 5   PerformancePegawai                  287 non-null    object \n",
      " 6   AsalDaerah                          287 non-null    object \n",
      " 7   HiringPlatform                      287 non-null    object \n",
      " 8   SkorSurveyEngagement                287 non-null    int64  \n",
      " 9   SkorKepuasanPegawai                 282 non-null    float64\n",
      " 10  JumlahKeikutsertaanProjek           284 non-null    float64\n",
      " 11  JumlahKeterlambatanSebulanTerakhir  286 non-null    float64\n",
      " 12  JumlahKetidakhadiran                281 non-null    float64\n",
      " 13  TingkatPendidikan                   287 non-null    object \n",
      " 14  AlasanResign                        221 non-null    object \n",
      " 15  TanggalLahir                        287 non-null    object \n",
      " 16  TanggalHiring                       287 non-null    object \n",
      " 17  TanggalPenilaianKaryawan            287 non-null    object \n",
      " 18  TanggalResign                       287 non-null    object \n",
      "dtypes: float64(4), int64(1), object(14)\n",
      "memory usage: 42.7+ KB\n"
     ]
    }
   ],
   "source": [
    "data.info()"
   ]
  },
  {
   "attachments": {},
   "cell_type": "markdown",
   "metadata": {},
   "source": [
    "## 1.2. Handle Missing Value"
   ]
  },
  {
   "cell_type": "code",
   "execution_count": 14,
   "metadata": {},
   "outputs": [
    {
     "name": "stdout",
     "output_type": "stream",
     "text": [
      "There are 81 missing values to handle\n"
     ]
    }
   ],
   "source": [
    "# Calculate missing values before handling them\n",
    "print('There are', data.isnull().sum().sum(), 'missing values to handle')"
   ]
  },
  {
   "cell_type": "code",
   "execution_count": 15,
   "metadata": {},
   "outputs": [
    {
     "data": {
      "text/plain": [
       "AlasanResign                          66\n",
       "JumlahKetidakhadiran                   6\n",
       "SkorKepuasanPegawai                    5\n",
       "JumlahKeikutsertaanProjek              3\n",
       "JumlahKeterlambatanSebulanTerakhir     1\n",
       "dtype: int64"
      ]
     },
     "execution_count": 15,
     "metadata": {},
     "output_type": "execute_result"
    }
   ],
   "source": [
    "# Filter columns with missing values\n",
    "missing = data.columns[data.isna().any()]\n",
    "\n",
    "# Calculate the count of missing values in each column\n",
    "missing_counts = data[missing].isna().sum()\n",
    "\n",
    "# Sort the result by descending count\n",
    "missing_counts.sort_values(ascending=False)"
   ]
  },
  {
   "cell_type": "code",
   "execution_count": 16,
   "metadata": {},
   "outputs": [
    {
     "data": {
      "text/html": [
       "<div>\n",
       "<style scoped>\n",
       "    .dataframe tbody tr th:only-of-type {\n",
       "        vertical-align: middle;\n",
       "    }\n",
       "\n",
       "    .dataframe tbody tr th {\n",
       "        vertical-align: top;\n",
       "    }\n",
       "\n",
       "    .dataframe thead th {\n",
       "        text-align: right;\n",
       "    }\n",
       "</style>\n",
       "<table border=\"1\" class=\"dataframe\">\n",
       "  <thead>\n",
       "    <tr style=\"text-align: right;\">\n",
       "      <th></th>\n",
       "      <th>count</th>\n",
       "      <th>mean</th>\n",
       "      <th>std</th>\n",
       "      <th>min</th>\n",
       "      <th>25%</th>\n",
       "      <th>50%</th>\n",
       "      <th>75%</th>\n",
       "      <th>max</th>\n",
       "    </tr>\n",
       "  </thead>\n",
       "  <tbody>\n",
       "    <tr>\n",
       "      <th>JumlahKetidakhadiran</th>\n",
       "      <td>281.0</td>\n",
       "      <td>10.448399</td>\n",
       "      <td>6.902252</td>\n",
       "      <td>1.0</td>\n",
       "      <td>5.0</td>\n",
       "      <td>10.0</td>\n",
       "      <td>15.0</td>\n",
       "      <td>55.0</td>\n",
       "    </tr>\n",
       "    <tr>\n",
       "      <th>SkorKepuasanPegawai</th>\n",
       "      <td>282.0</td>\n",
       "      <td>3.904255</td>\n",
       "      <td>0.913355</td>\n",
       "      <td>1.0</td>\n",
       "      <td>3.0</td>\n",
       "      <td>4.0</td>\n",
       "      <td>5.0</td>\n",
       "      <td>5.0</td>\n",
       "    </tr>\n",
       "    <tr>\n",
       "      <th>JumlahKeikutsertaanProjek</th>\n",
       "      <td>284.0</td>\n",
       "      <td>1.179577</td>\n",
       "      <td>2.294441</td>\n",
       "      <td>0.0</td>\n",
       "      <td>0.0</td>\n",
       "      <td>0.0</td>\n",
       "      <td>0.0</td>\n",
       "      <td>8.0</td>\n",
       "    </tr>\n",
       "    <tr>\n",
       "      <th>JumlahKeterlambatanSebulanTerakhir</th>\n",
       "      <td>286.0</td>\n",
       "      <td>0.412587</td>\n",
       "      <td>1.275016</td>\n",
       "      <td>0.0</td>\n",
       "      <td>0.0</td>\n",
       "      <td>0.0</td>\n",
       "      <td>0.0</td>\n",
       "      <td>6.0</td>\n",
       "    </tr>\n",
       "  </tbody>\n",
       "</table>\n",
       "</div>"
      ],
      "text/plain": [
       "                                    count       mean       std  min  25%   \n",
       "JumlahKetidakhadiran                281.0  10.448399  6.902252  1.0  5.0  \\\n",
       "SkorKepuasanPegawai                 282.0   3.904255  0.913355  1.0  3.0   \n",
       "JumlahKeikutsertaanProjek           284.0   1.179577  2.294441  0.0  0.0   \n",
       "JumlahKeterlambatanSebulanTerakhir  286.0   0.412587  1.275016  0.0  0.0   \n",
       "\n",
       "                                     50%   75%   max  \n",
       "JumlahKetidakhadiran                10.0  15.0  55.0  \n",
       "SkorKepuasanPegawai                  4.0   5.0   5.0  \n",
       "JumlahKeikutsertaanProjek            0.0   0.0   8.0  \n",
       "JumlahKeterlambatanSebulanTerakhir   0.0   0.0   6.0  "
      ]
     },
     "execution_count": 16,
     "metadata": {},
     "output_type": "execute_result"
    }
   ],
   "source": [
    "data[['JumlahKetidakhadiran', 'SkorKepuasanPegawai', 'JumlahKeikutsertaanProjek', 'JumlahKeterlambatanSebulanTerakhir']].describe().T"
   ]
  },
  {
   "attachments": {},
   "cell_type": "markdown",
   "metadata": {},
   "source": [
    "* we will use mode to do imputation to AlasanResign, JumlahKetidakhadiran, SkorKepuasanPegawai, JumlahKeikutsertaanProjek, JumlahKeterlambatanSebulanTerakhir columns.\n",
    "* There are two reason for this, first is because AlasanResign values are string which has no mean attribute. second is because the rest's mean values have decimal other than zero, if we do mean imputation we will add more unnecessary unique values."
   ]
  },
  {
   "cell_type": "code",
   "execution_count": 17,
   "metadata": {},
   "outputs": [],
   "source": [
    "# Columns with missing values\n",
    "columns_to_impute = ['AlasanResign', 'JumlahKetidakhadiran', 'SkorKepuasanPegawai', 'JumlahKeikutsertaanProjek', 'JumlahKeterlambatanSebulanTerakhir']\n",
    "\n",
    "# Perform mode imputation for each column\n",
    "for column in columns_to_impute:\n",
    "    data[column].fillna(data[column].mode().iloc[0], inplace=True)"
   ]
  },
  {
   "cell_type": "code",
   "execution_count": 18,
   "metadata": {},
   "outputs": [
    {
     "name": "stdout",
     "output_type": "stream",
     "text": [
      "There are 0 missing values in the dataset\n"
     ]
    }
   ],
   "source": [
    "# Calculate missing values before handling them\n",
    "print('There are', data.isnull().sum().sum(), 'missing values in the dataset')"
   ]
  },
  {
   "attachments": {},
   "cell_type": "markdown",
   "metadata": {},
   "source": [
    "## 1.3. Handle Duplicate Values"
   ]
  },
  {
   "cell_type": "code",
   "execution_count": 19,
   "metadata": {},
   "outputs": [
    {
     "name": "stdout",
     "output_type": "stream",
     "text": [
      "There are 0 duplicate values to handle\n"
     ]
    }
   ],
   "source": [
    "# Calculate duplicate values to handle\n",
    "print('There are', data.duplicated().sum(), 'duplicate values to handle')"
   ]
  },
  {
   "attachments": {},
   "cell_type": "markdown",
   "metadata": {},
   "source": [
    "## 1.4. Handle Missmatch Data types"
   ]
  },
  {
   "cell_type": "code",
   "execution_count": 20,
   "metadata": {},
   "outputs": [
    {
     "data": {
      "text/plain": [
       "StatusPernikahan                       object\n",
       "JenisKelamin                           object\n",
       "StatusKepegawaian                      object\n",
       "Pekerjaan                              object\n",
       "JenjangKarir                           object\n",
       "PerformancePegawai                     object\n",
       "AsalDaerah                             object\n",
       "HiringPlatform                         object\n",
       "SkorSurveyEngagement                    int64\n",
       "SkorKepuasanPegawai                   float64\n",
       "JumlahKeikutsertaanProjek             float64\n",
       "JumlahKeterlambatanSebulanTerakhir    float64\n",
       "JumlahKetidakhadiran                  float64\n",
       "TingkatPendidikan                      object\n",
       "AlasanResign                           object\n",
       "TanggalLahir                           object\n",
       "TanggalHiring                          object\n",
       "TanggalPenilaianKaryawan               object\n",
       "TanggalResign                          object\n",
       "dtype: object"
      ]
     },
     "execution_count": 20,
     "metadata": {},
     "output_type": "execute_result"
    }
   ],
   "source": [
    "# Check the types of all features\n",
    "data.dtypes"
   ]
  },
  {
   "cell_type": "code",
   "execution_count": 21,
   "metadata": {},
   "outputs": [],
   "source": [
    "# Replace \"-\" with NaN in Tanggalresign\n",
    "data['TanggalResign'] = data['TanggalResign'].replace('-', np.nan)\n",
    "\n",
    "# Convert TanggalLahir, TanggalHiring, TanggalPenilaianKaryawan, and TanggalResign column to datetime\n",
    "data['TanggalLahir'] = pd.to_datetime(data['TanggalLahir'])\n",
    "data['TanggalHiring'] = pd.to_datetime(data['TanggalHiring'])\n",
    "data['TanggalPenilaianKaryawan'] = pd.to_datetime(data['TanggalPenilaianKaryawan'])\n",
    "data['TanggalResign'] = pd.to_datetime(data['TanggalResign'])"
   ]
  },
  {
   "cell_type": "code",
   "execution_count": 22,
   "metadata": {},
   "outputs": [
    {
     "data": {
      "text/plain": [
       "StatusPernikahan                              object\n",
       "JenisKelamin                                  object\n",
       "StatusKepegawaian                             object\n",
       "Pekerjaan                                     object\n",
       "JenjangKarir                                  object\n",
       "PerformancePegawai                            object\n",
       "AsalDaerah                                    object\n",
       "HiringPlatform                                object\n",
       "SkorSurveyEngagement                           int64\n",
       "SkorKepuasanPegawai                          float64\n",
       "JumlahKeikutsertaanProjek                    float64\n",
       "JumlahKeterlambatanSebulanTerakhir           float64\n",
       "JumlahKetidakhadiran                         float64\n",
       "TingkatPendidikan                             object\n",
       "AlasanResign                                  object\n",
       "TanggalLahir                          datetime64[ns]\n",
       "TanggalHiring                         datetime64[ns]\n",
       "TanggalPenilaianKaryawan              datetime64[ns]\n",
       "TanggalResign                         datetime64[ns]\n",
       "dtype: object"
      ]
     },
     "execution_count": 22,
     "metadata": {},
     "output_type": "execute_result"
    }
   ],
   "source": [
    "data.dtypes"
   ]
  },
  {
   "attachments": {},
   "cell_type": "markdown",
   "metadata": {},
   "source": [
    "## 1.5. Visualization and Statistical Analysis"
   ]
  },
  {
   "cell_type": "code",
   "execution_count": 24,
   "metadata": {},
   "outputs": [
    {
     "name": "stdout",
     "output_type": "stream",
     "text": [
      "Merged Employee Statistics per Year:\n",
      "    Year  EmployeesHired  EmployeesResigned  EmployeesStayed   \n",
      "0   2006               1                  0                1  \\\n",
      "1   2007               2                  0                3   \n",
      "2   2008               2                  0                5   \n",
      "3   2009               7                  0               12   \n",
      "4   2010               8                  0               20   \n",
      "5   2011              76                  0               96   \n",
      "6   2012              41                  0              137   \n",
      "7   2013              43                  5              175   \n",
      "8   2014              56                 12              224   \n",
      "9   2015              31                  8              259   \n",
      "10  2016              14                  8              273   \n",
      "11  2017               5                 19              267   \n",
      "12  2018               1                 26              261   \n",
      "13  2019               0                  5              282   \n",
      "14  2020               0                  6              281   \n",
      "\n",
      "    EmployeeCountChange  \n",
      "0                     1  \n",
      "1                     2  \n",
      "2                     2  \n",
      "3                     7  \n",
      "4                     8  \n",
      "5                    76  \n",
      "6                    41  \n",
      "7                    43  \n",
      "8                    51  \n",
      "9                    19  \n",
      "10                    6  \n",
      "11                   -3  \n",
      "12                  -18  \n",
      "13                  -26  \n",
      "14                   -5  \n",
      "Total Hired Employees: 287\n",
      "Total Resigned Employees: 89\n",
      "Total Stayed Employees: 281\n",
      "Total Change Employees: 204\n"
     ]
    }
   ],
   "source": [
    "# Extract the year from the hiring and resign dates\n",
    "data['YearHired'] = data['TanggalHiring'].dt.year\n",
    "data['YearResigned'] = data['TanggalResign'].dt.year\n",
    "\n",
    "# Calculate the number of employees hired per year\n",
    "hired_per_year = data['YearHired'].value_counts().sort_index().reset_index()\n",
    "hired_per_year.columns = ['Year', 'EmployeesHired']\n",
    "hired_per_year['Year'] = hired_per_year['Year'].astype(int)\n",
    "\n",
    "# Calculate the number of employees resigned per year\n",
    "resigned_per_year = data['YearResigned'].value_counts().sort_index().reset_index()\n",
    "resigned_per_year.columns = ['Year', 'EmployeesResigned']\n",
    "resigned_per_year['Year'] = resigned_per_year['Year'].astype(int)\n",
    "\n",
    "# Merge the two aggregate tables based on the \"Year\" column\n",
    "merged_table = hired_per_year.merge(resigned_per_year, on='Year', how='outer')\n",
    "\n",
    "# Fill missing values with 0 in the merged table\n",
    "merged_table = merged_table.fillna(0)\n",
    "\n",
    "# Calculate the number of stayed employees\n",
    "merged_table['EmployeesStayed'] = merged_table['EmployeesHired'].cumsum() - merged_table['EmployeesResigned']\n",
    "\n",
    "# Calculate the change in employee count every year\n",
    "merged_table['EmployeeCountChange'] = merged_table['EmployeesHired'] - merged_table['EmployeesResigned'].shift(fill_value=0)\n",
    "\n",
    "# Convert \"EmployeesHired\", \"EmployeesResigned\", \"EmployeesStayed\" and \"EmployeeCountChange\" columns to integers\n",
    "merged_table['EmployeesHired'] = merged_table['EmployeesHired'].astype(int)\n",
    "merged_table['EmployeesResigned'] = merged_table['EmployeesResigned'].astype(int)\n",
    "merged_table['EmployeesStayed'] = merged_table['EmployeesStayed'].astype(int)\n",
    "merged_table['EmployeeCountChange'] = merged_table['EmployeeCountChange'].astype(int)\n",
    "\n",
    "# Calculate the total number of resigned employees\n",
    "total_hired = merged_table['EmployeesHired'].sum()\n",
    "total_resigned = merged_table['EmployeesResigned'].sum()\n",
    "total_stayed = merged_table['EmployeesStayed'].iloc[-1]\n",
    "total_change = merged_table['EmployeeCountChange'].sum()\n",
    "\n",
    "# Print the merged table\n",
    "print(\"Merged Employee Statistics per Year:\")\n",
    "print(merged_table)\n",
    "\n",
    "# Print the total number of resigned employees\n",
    "print(\"Total Hired Employees:\", total_hired)\n",
    "print(\"Total Resigned Employees:\", total_resigned)\n",
    "print(\"Total Stayed Employees:\", total_stayed)\n",
    "print(\"Total Change Employees:\", total_change)"
   ]
  },
  {
   "cell_type": "code",
   "execution_count": 25,
   "metadata": {},
   "outputs": [
    {
     "data": {
      "image/png": "[encoded data removed]",
      "text/plain": [
       "<Figure size 1200x600 with 1 Axes>"
      ]
     },
     "metadata": {},
     "output_type": "display_data"
    }
   ],
   "source": [
    "# Calculate the most recent count of employees who have stayed\n",
    "most_recent_stayed = merged_table['EmployeesStayed'].iloc[-1]\n",
    "\n",
    "# Set up the waterfall plot\n",
    "plt.figure(figsize=(12, 6))\n",
    "sns.set(style=\"darkgrid\")\n",
    "\n",
    "# Plot the waterfall chart\n",
    "waterfall = sns.barplot(x=merged_table['Year'], y=merged_table['EmployeeCountChange'], palette=\"rocket\")\n",
    "\n",
    "# Add labels to the bars\n",
    "for i, value in enumerate(merged_table['EmployeeCountChange']):\n",
    "    if value > 0:\n",
    "        waterfall.text(i, value, f'+{value}', ha='center', va='bottom', color='g', fontweight='bold')\n",
    "    else:\n",
    "        waterfall.text(i, value, value, ha='center', va='top', color='r', fontweight='bold')\n",
    "\n",
    "# Add a vertical line at zero\n",
    "waterfall.axhline(0, color='black', linestyle='-', linewidth=1)\n",
    "\n",
    "# Add a title and labels\n",
    "waterfall.set_title('Waterfall Plot: Employee Count Change per Year', fontsize=16)\n",
    "waterfall.set_xlabel('Year', fontsize=12)\n",
    "waterfall.set_ylabel('Employee Count Change', fontsize=12)\n",
    "\n",
    "# Remove the spines\n",
    "waterfall.spines['right'].set_visible(False)\n",
    "waterfall.spines['top'].set_visible(False)\n",
    "waterfall.spines['left'].set_visible(False)\n",
    "\n",
    "# Customize the ticks and grid\n",
    "waterfall.tick_params(axis='x', length=0)\n",
    "waterfall.grid(axis='y', linestyle='--')\n",
    "\n",
    "# Display the most recent count of employees who have stayed\n",
    "waterfall.text(len(merged_table)-1, merged_table['EmployeeCountChange'].iloc[-1], most_recent_stayed,\n",
    "               ha='center', va='bottom', color='black', fontweight='bold')\n",
    "\n",
    "plt.tight_layout()\n",
    "plt.show()\n"
   ]
  },
  {
   "cell_type": "code",
   "execution_count": 26,
   "metadata": {},
   "outputs": [
    {
     "data": {
      "text/plain": [
       "AlasanResign            \n",
       "masih_bekerja               198\n",
       "jam_kerja                    16\n",
       "ganti_karir                  14\n",
       "kejelasan_karir              11\n",
       "tidak_bisa_remote            11\n",
       "toxic_culture                10\n",
       "leadership                    9\n",
       "tidak_bahagia                 8\n",
       "Product Design (UI & UX)      4\n",
       "internal_conflict             4\n",
       "apresiasi                     2\n",
       "Name: count, dtype: int64"
      ]
     },
     "execution_count": 26,
     "metadata": {},
     "output_type": "execute_result"
    }
   ],
   "source": [
    "data[['AlasanResign']].value_counts()"
   ]
  },
  {
   "cell_type": "code",
   "execution_count": 27,
   "metadata": {},
   "outputs": [],
   "source": [
    "data.to_excel('C:/Users/lanafuadi/Downloads/cleaned.xlsx', index=False)"
   ]
  },
  {
   "cell_type": "code",
   "execution_count": null,
   "metadata": {},
   "outputs": [],
   "source": []
  },
  {
   "cell_type": "code",
   "execution_count": null,
   "metadata": {},
   "outputs": [],
   "source": []
  }
 ],
 "metadata": {
  "kernelspec": {
   "display_name": "Python 3",
   "language": "python",
   "name": "python3"
  },
  "language_info": {
   "codemirror_mode": {
    "name": "ipython",
    "version": 3
   },
   "file_extension": ".py",
   "mimetype": "text/x-python",
   "name": "python",
   "nbconvert_exporter": "python",
   "pygments_lexer": "ipython3",
   "version": "3.11.3"
  },
  "orig_nbformat": 4
 },
 "nbformat": 4,
 "nbformat_minor": 2
}
